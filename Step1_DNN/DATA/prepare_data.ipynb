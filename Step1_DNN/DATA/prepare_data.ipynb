{
 "cells": [
  {
   "cell_type": "code",
   "execution_count": 1,
   "metadata": {},
   "outputs": [],
   "source": [
    "import numpy as np\n",
    "import pandas as pd"
   ]
  },
  {
   "cell_type": "code",
   "execution_count": 2,
   "metadata": {},
   "outputs": [
    {
     "name": "stdout",
     "output_type": "stream",
     "text": [
      "(169, 26)\n"
     ]
    }
   ],
   "source": [
    "data = pd.read_csv('./OD.csv')\n",
    "print(data.shape)"
   ]
  },
  {
   "cell_type": "markdown",
   "metadata": {},
   "source": [
    "# Statistic"
   ]
  },
  {
   "cell_type": "code",
   "execution_count": 3,
   "metadata": {},
   "outputs": [
    {
     "data": {
      "text/plain": [
       "Index(['time', '进水流量', '进水COD', '进水SS', '进水TP', '进水TN', '进水NH3', '进水温度',\n",
       "       '进水ph', 'MLSS_2#A', 'MLSS_2#B', 'MLSS_3#', 'DO_2#A', 'DO_2#B', 'DO_3#',\n",
       "       '内回流量_2#A', '内回流量_2#B', '内回流量_3#', '外回流量_2#A', '外回流量_2#B', '外回流量_3#',\n",
       "       '出水流量', '出水COD', '出水TP', '出水TN', '出水NH3'],\n",
       "      dtype='object')"
      ]
     },
     "execution_count": 3,
     "metadata": {},
     "output_type": "execute_result"
    }
   ],
   "source": [
    "data.columns"
   ]
  },
  {
   "cell_type": "code",
   "execution_count": 4,
   "metadata": {},
   "outputs": [],
   "source": [
    "select_index = ['MLSS_2#A', 'MLSS_2#B', 'MLSS_3#',\n",
    "                '内回流量_2#A', '外回流量_2#A',\n",
    "                'DO_2#A', 'DO_2#B', 'DO_3#',\n",
    "                '进水流量','进水COD', '进水SS', '进水TP', '进水TN', '进水NH3','进水温度',\n",
    "                '出水流量', '出水COD', '出水TP', '出水TN', '出水NH3'\n",
    "                ]"
   ]
  },
  {
   "cell_type": "code",
   "execution_count": 11,
   "metadata": {},
   "outputs": [],
   "source": [
    "a = data[select_index].max()\n",
    "b = data[select_index].min()\n",
    "c = data[select_index].mean()\n",
    "d = data[select_index].median()"
   ]
  },
  {
   "cell_type": "code",
   "execution_count": 14,
   "metadata": {},
   "outputs": [],
   "source": [
    "pd.concat((a,b,c,d), axis=1).to_csv('datastatistic.csv')"
   ]
  },
  {
   "cell_type": "markdown",
   "metadata": {},
   "source": [
    "# 归一化"
   ]
  },
  {
   "cell_type": "code",
   "execution_count": 4,
   "metadata": {},
   "outputs": [],
   "source": [
    "def normlization(data):\n",
    "    minD, maxD = np.min(data,axis=0), np.max(data,axis=0)\n",
    "    rdata = 2*(data-minD)/(maxD-minD)-1\n",
    "    return rdata,minD,maxD"
   ]
  },
  {
   "cell_type": "code",
   "execution_count": 6,
   "metadata": {},
   "outputs": [],
   "source": [
    "rdata, minD, maxD = normlization(data.values[:,1:])\n",
    "pd.DataFrame(rdata,columns=data.columns[1:]).to_csv('rdata.csv')"
   ]
  },
  {
   "cell_type": "code",
   "execution_count": 7,
   "metadata": {},
   "outputs": [],
   "source": [
    "rangeData = {}\n",
    "i=0\n",
    "for k in data.columns[1:]:\n",
    "    rangeData[k]={\n",
    "        'min':minD[i],\n",
    "        'max':maxD[i]\n",
    "    }\n",
    "    i += 1\n",
    "\n",
    "np.save('./rangeData.npy',rangeData)"
   ]
  }
 ],
 "metadata": {
  "kernelspec": {
   "display_name": "py311",
   "language": "python",
   "name": "python3"
  },
  "language_info": {
   "codemirror_mode": {
    "name": "ipython",
    "version": 3
   },
   "file_extension": ".py",
   "mimetype": "text/x-python",
   "name": "python",
   "nbconvert_exporter": "python",
   "pygments_lexer": "ipython3",
   "version": "3.11.5"
  }
 },
 "nbformat": 4,
 "nbformat_minor": 2
}
